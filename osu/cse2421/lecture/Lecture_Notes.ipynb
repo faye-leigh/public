{
 "cells": [
  {
   "cell_type": "markdown",
   "metadata": {},
   "source": [
    "# Systems I (CSE 2421) Lecture Notes"
   ]
  },
  {
   "cell_type": "markdown",
   "metadata": {},
   "source": [
    "## 15. Strings in C"
   ]
  },
  {
   "cell_type": "markdown",
   "metadata": {},
   "source": [
    "### Intro\n",
    "- no string data type\n",
    "- strings stored as sequences of chars in memory (char array)\n",
    "    - individual chars _always_ stored in contiguous bytes in memory\n",
    "- two types of strings\n",
    "    1. string literals (\"read only\" strings - RO)\n",
    "        > use as _string constant_\n",
    "    2. char arrays (\"read-write\" strings - RW)\n",
    "- null character termination ('\\0')\n",
    "    - used by printf() and scanf() to mark end/len of string\n",
    "    - if not present, segmentation faults if lucky\n",
    "    - compiler stores declared strings as ASCII of each char and adds null char termination at end <br>\n",
    "        ```c\n",
    "        int main() {\n",
    "            char string[] = {'e', 'x', 'a', 'm', '\\0', 'p', 'l', 'e'};\n",
    "            printf(\"%s\", string);\n",
    "            return (0);\n",
    "        }\n",
    "        >> exam\n",
    "        ```\n",
    "    - char __array__ holds 8 chars, string in the array needs 5 chars; 4 + 1 for null\n",
    "- -Wimplicit-function-declaration flag __will__ throw warning if string.h not included but will compile\n",
    "- strcpy returns char * not int\n",
    "- size of array = __string length + 1__\n",
    "    ```c\n",
    "    char label[10] =  {'c', 'o', 'n', 't', 'a', 'i', 'n', 'e', 'r'};\n",
    "    ```\n",
    "    - str in label can have max len 9 so there is space for null"
   ]
  },
  {
   "cell_type": "markdown",
   "metadata": {},
   "source": [
    "### String Basics\n",
    "```c\n",
    "while (*dest++=*src++);\n",
    "```\n"
   ]
  },
  {
   "cell_type": "markdown",
   "metadata": {},
   "source": [
    "### Null Character Termination Example\n",
    "```c\n",
    "int main() {\n",
    "    char string[] = {'e', 'x', 'a', 'm', '\\0', 'p', 'l', 'e'};\n",
    "    printf(\"%s\", string);\n",
    "    return 0;\n",
    "}\n",
    ">> exam\n",
    "```"
   ]
  },
  {
   "cell_type": "markdown",
   "metadata": {},
   "source": [
    "### Assignment with strings\n"
   ]
  },
  {
   "cell_type": "markdown",
   "metadata": {},
   "source": []
  }
 ],
 "metadata": {
  "kernelspec": {
   "display_name": "Python 3",
   "language": "python",
   "name": "python3"
  },
  "language_info": {
   "name": "python",
   "version": "3.12.5"
  }
 },
 "nbformat": 4,
 "nbformat_minor": 2
}
