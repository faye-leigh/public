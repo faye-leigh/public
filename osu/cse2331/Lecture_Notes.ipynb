{
 "cells": [
  {
   "cell_type": "markdown",
   "metadata": {},
   "source": [
    "## 4. Discrete Probability Theory\n",
    "$\n",
    "A \\times B={(a,b):a \\in A, and b \\in B}\n",
    "A^k={(a_1, a_2, ..., 1_k):q_i \\in for 1<= i <= k}\n",
    "$ <br>\n",
    "Examples of probability spaces: <br>\n",
    "flip of fair coin:<br>\n",
    "$\\Omega = {H,T}$ and $Pr(H)=Pr(T)=1/2 \\\\$\n",
    "6 sided dice <br>\n",
    "$\n",
    "\\Omega = (1:6) \\\\\n",
    "E = (2, 4, 6) \\\\\n",
    "Pr(E) = \\sum_{i \\in E}Pr(i) \\\\\n",
    "= \\sum_{i \\in {2, 4, 6}}Pr(i) \\\\\n",
    "= Pr(2) + Pr(4) + Pr (6) = 3/6\n",
    "|E| = 1/6 \\\\ \\\\\n",
    "\\Omega = {1, ..., 20} \\\\\n",
    "E = {1, ..., 7} \\\\\n",
    "Pr(E) = |E|Pr(i) \\\\\n",
    "$\n",
    "two disjoint sets e1 and e2 <br>\n",
    "Pr[E1 u E2] = Pr[E1] + Pr[E2] <br>\n",
    "coin biased towards heads with prob P, flip 3 times, <br>\n",
    "$\n",
    "\\Omega = {H, T}^3 \\\\\n",
    "\n",
    "$"
   ]
  },
  {
   "cell_type": "markdown",
   "metadata": {},
   "source": []
  }
 ],
 "metadata": {
  "language_info": {
   "name": "python"
  }
 },
 "nbformat": 4,
 "nbformat_minor": 2
}
